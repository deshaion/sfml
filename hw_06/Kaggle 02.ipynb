{
 "cells": [
  {
   "cell_type": "code",
   "execution_count": 1,
   "metadata": {},
   "outputs": [],
   "source": [
    "import pandas as pd\n",
    "\n",
    "from sklearn.ensemble import RandomForestClassifier\n",
    "from sklearn.linear_model import LogisticRegression\n",
    "from sklearn.tree import DecisionTreeClassifier\n",
    "from sklearn.neighbors import KNeighborsClassifier\n",
    "from sklearn.ensemble import GradientBoostingClassifier\n",
    "from catboost import CatBoostClassifier\n",
    "\n",
    "from sklearn.feature_extraction.text import CountVectorizer\n",
    "from sklearn.feature_extraction.text import TfidfVectorizer\n",
    "from sklearn.model_selection import train_test_split\n",
    "\n",
    "from sklearn.pipeline import Pipeline\n",
    "from sklearn.metrics import roc_auc_score\n",
    "from bs4 import BeautifulSoup"
   ]
  },
  {
   "cell_type": "code",
   "execution_count": null,
   "metadata": {},
   "outputs": [],
   "source": [
    "df_train = pd.read_csv('data/train.csv', sep='\\t', encoding='utf8', index_col='id')\n",
    "df_test = pd.read_csv('data/test.csv', sep='\\t', encoding='utf8', index_col='id')\n",
    "df_train.head()"
   ]
  },
  {
   "cell_type": "code",
   "execution_count": null,
   "metadata": {},
   "outputs": [],
   "source": [
    "df_test.head()"
   ]
  },
  {
   "cell_type": "code",
   "execution_count": null,
   "metadata": {},
   "outputs": [],
   "source": [
    "df_train['description'] = df_train['description'].map(lambda s: BeautifulSoup(s, \"lxml\").get_text())\n",
    "df_test['description'] = df_test['description'].map(lambda s: BeautifulSoup(s, \"lxml\").get_text())"
   ]
  },
  {
   "cell_type": "code",
   "execution_count": null,
   "metadata": {},
   "outputs": [],
   "source": [
    "df_train['description'] = df_train['name'] + \" \" + df_train['description']\n",
    "df_test['description'] = df_test['name'] + \" \" + df_test['description']"
   ]
  },
  {
   "cell_type": "code",
   "execution_count": null,
   "metadata": {},
   "outputs": [],
   "source": [
    "df_train.head()"
   ]
  },
  {
   "cell_type": "code",
   "execution_count": null,
   "metadata": {},
   "outputs": [],
   "source": [
    "df_train.to_csv('train_clean.csv', sep=',', encoding='utf8')\n",
    "df_test.to_csv('test_clean.csv', sep=',', encoding='utf8')"
   ]
  },
  {
   "cell_type": "code",
   "execution_count": 2,
   "metadata": {},
   "outputs": [],
   "source": [
    "#повторно запускать отсюда\n",
    "df_train = pd.read_csv('train_clean.csv', sep=',', encoding='utf8', index_col='id')\n",
    "df_test = pd.read_csv('test_clean.csv', sep=',', encoding='utf8', index_col='id')"
   ]
  },
  {
   "cell_type": "code",
   "execution_count": 3,
   "metadata": {},
   "outputs": [
    {
     "data": {
      "text/html": [
       "<div>\n",
       "<style scoped>\n",
       "    .dataframe tbody tr th:only-of-type {\n",
       "        vertical-align: middle;\n",
       "    }\n",
       "\n",
       "    .dataframe tbody tr th {\n",
       "        vertical-align: top;\n",
       "    }\n",
       "\n",
       "    .dataframe thead th {\n",
       "        text-align: right;\n",
       "    }\n",
       "</style>\n",
       "<table border=\"1\" class=\"dataframe\">\n",
       "  <thead>\n",
       "    <tr style=\"text-align: right;\">\n",
       "      <th></th>\n",
       "      <th>name</th>\n",
       "      <th>description</th>\n",
       "    </tr>\n",
       "    <tr>\n",
       "      <th>id</th>\n",
       "      <th></th>\n",
       "      <th></th>\n",
       "    </tr>\n",
       "  </thead>\n",
       "  <tbody>\n",
       "    <tr>\n",
       "      <th>200000</th>\n",
       "      <td>Дизайнер-консультант мебели</td>\n",
       "      <td>Дизайнер-консультант мебели Обязанности:  Рабо...</td>\n",
       "    </tr>\n",
       "    <tr>\n",
       "      <th>200001</th>\n",
       "      <td>Продавец-консультант (ТЦ на Пушкина)</td>\n",
       "      <td>Продавец-консультант (ТЦ на Пушкина) Обязаннос...</td>\n",
       "    </tr>\n",
       "    <tr>\n",
       "      <th>200002</th>\n",
       "      <td>Менеджер по продажам</td>\n",
       "      <td>Менеджер по продажам Торговый Дом «Форт» это в...</td>\n",
       "    </tr>\n",
       "    <tr>\n",
       "      <th>200003</th>\n",
       "      <td>Продавец-консультант в магазин одежды (ТЦ Волн...</td>\n",
       "      <td>Продавец-консультант в магазин одежды (ТЦ Волн...</td>\n",
       "    </tr>\n",
       "    <tr>\n",
       "      <th>200004</th>\n",
       "      <td>Специалист по охране труда</td>\n",
       "      <td>Специалист по охране труда Обязанности:   осущ...</td>\n",
       "    </tr>\n",
       "  </tbody>\n",
       "</table>\n",
       "</div>"
      ],
      "text/plain": [
       "                                                     name  \\\n",
       "id                                                          \n",
       "200000                        Дизайнер-консультант мебели   \n",
       "200001               Продавец-консультант (ТЦ на Пушкина)   \n",
       "200002                               Менеджер по продажам   \n",
       "200003  Продавец-консультант в магазин одежды (ТЦ Волн...   \n",
       "200004                         Специалист по охране труда   \n",
       "\n",
       "                                              description  \n",
       "id                                                         \n",
       "200000  Дизайнер-консультант мебели Обязанности:  Рабо...  \n",
       "200001  Продавец-консультант (ТЦ на Пушкина) Обязаннос...  \n",
       "200002  Менеджер по продажам Торговый Дом «Форт» это в...  \n",
       "200003  Продавец-консультант в магазин одежды (ТЦ Волн...  \n",
       "200004  Специалист по охране труда Обязанности:   осущ...  "
      ]
     },
     "execution_count": 3,
     "metadata": {},
     "output_type": "execute_result"
    }
   ],
   "source": [
    "df_test.head()"
   ]
  },
  {
   "cell_type": "code",
   "execution_count": 4,
   "metadata": {},
   "outputs": [
    {
     "data": {
      "text/html": [
       "<div>\n",
       "<style scoped>\n",
       "    .dataframe tbody tr th:only-of-type {\n",
       "        vertical-align: middle;\n",
       "    }\n",
       "\n",
       "    .dataframe tbody tr th {\n",
       "        vertical-align: top;\n",
       "    }\n",
       "\n",
       "    .dataframe thead th {\n",
       "        text-align: right;\n",
       "    }\n",
       "</style>\n",
       "<table border=\"1\" class=\"dataframe\">\n",
       "  <thead>\n",
       "    <tr style=\"text-align: right;\">\n",
       "      <th></th>\n",
       "      <th>name</th>\n",
       "      <th>description</th>\n",
       "      <th>target</th>\n",
       "    </tr>\n",
       "    <tr>\n",
       "      <th>id</th>\n",
       "      <th></th>\n",
       "      <th></th>\n",
       "      <th></th>\n",
       "    </tr>\n",
       "  </thead>\n",
       "  <tbody>\n",
       "    <tr>\n",
       "      <th>0</th>\n",
       "      <td>Заведующий отделом/секцией в магазин YORK (Уру...</td>\n",
       "      <td>Заведующий отделом/секцией в магазин YORK (Уру...</td>\n",
       "      <td>1</td>\n",
       "    </tr>\n",
       "    <tr>\n",
       "      <th>1</th>\n",
       "      <td>Наладчик станков и манипуляторов с ПУ</td>\n",
       "      <td>Наладчик станков и манипуляторов с ПУ Обязанно...</td>\n",
       "      <td>0</td>\n",
       "    </tr>\n",
       "    <tr>\n",
       "      <th>2</th>\n",
       "      <td>Разработчик С++ (Криптограф)</td>\n",
       "      <td>Разработчик С++ (Криптограф) Требования:  Опыт...</td>\n",
       "      <td>0</td>\n",
       "    </tr>\n",
       "    <tr>\n",
       "      <th>3</th>\n",
       "      <td>Фрезеровщик</td>\n",
       "      <td>Фрезеровщик Условия:  На работу вахтовым метод...</td>\n",
       "      <td>0</td>\n",
       "    </tr>\n",
       "    <tr>\n",
       "      <th>4</th>\n",
       "      <td>Мерчендайзер/продавец-консультант</td>\n",
       "      <td>Мерчендайзер/продавец-консультант Компания Пал...</td>\n",
       "      <td>1</td>\n",
       "    </tr>\n",
       "  </tbody>\n",
       "</table>\n",
       "</div>"
      ],
      "text/plain": [
       "                                                 name  \\\n",
       "id                                                      \n",
       "0   Заведующий отделом/секцией в магазин YORK (Уру...   \n",
       "1               Наладчик станков и манипуляторов с ПУ   \n",
       "2                        Разработчик С++ (Криптограф)   \n",
       "3                                         Фрезеровщик   \n",
       "4                   Мерчендайзер/продавец-консультант   \n",
       "\n",
       "                                          description  target  \n",
       "id                                                             \n",
       "0   Заведующий отделом/секцией в магазин YORK (Уру...       1  \n",
       "1   Наладчик станков и манипуляторов с ПУ Обязанно...       0  \n",
       "2   Разработчик С++ (Криптограф) Требования:  Опыт...       0  \n",
       "3   Фрезеровщик Условия:  На работу вахтовым метод...       0  \n",
       "4   Мерчендайзер/продавец-консультант Компания Пал...       1  "
      ]
     },
     "execution_count": 4,
     "metadata": {},
     "output_type": "execute_result"
    }
   ],
   "source": [
    "df_train.head()"
   ]
  },
  {
   "cell_type": "code",
   "execution_count": 5,
   "metadata": {},
   "outputs": [],
   "source": [
    "X_text = []\n",
    "for i in df_train['description']:\n",
    "       X_text.append(i)\n",
    "y = df_train['target'].values"
   ]
  },
  {
   "cell_type": "code",
   "execution_count": 6,
   "metadata": {},
   "outputs": [],
   "source": [
    "X_text_test = []\n",
    "for i in df_test['description']:\n",
    "       X_text_test.append(i)"
   ]
  },
  {
   "cell_type": "code",
   "execution_count": 7,
   "metadata": {},
   "outputs": [],
   "source": [
    "X_train, X_test, y_train, y_test = train_test_split(X_text, y, test_size=0.25, shuffle=True, random_state=123)"
   ]
  },
  {
   "cell_type": "code",
   "execution_count": null,
   "metadata": {},
   "outputs": [],
   "source": [
    "# попробуем разные модели"
   ]
  },
  {
   "cell_type": "code",
   "execution_count": 8,
   "metadata": {},
   "outputs": [
    {
     "data": {
      "text/plain": [
       "0.9909794785153723"
      ]
     },
     "execution_count": 8,
     "metadata": {},
     "output_type": "execute_result"
    }
   ],
   "source": [
    "# tfidf + rfc (Roc_auc = 0.9911)\n",
    "model = Pipeline([\n",
    "    ('tfidf', TfidfVectorizer(ngram_range=(1,1))),\n",
    "    ('rfc', RandomForestClassifier(n_estimators = 100, n_jobs=-1)),\n",
    "])\n",
    "\n",
    "model.fit(X_train, y_train)\n",
    "roc_auc_score(y_test, model.predict_proba(X_test)[:,1])"
   ]
  },
  {
   "cell_type": "code",
   "execution_count": 7,
   "metadata": {},
   "outputs": [
    {
     "data": {
      "text/plain": [
       "0.9906734958864986"
      ]
     },
     "execution_count": 7,
     "metadata": {},
     "output_type": "execute_result"
    }
   ],
   "source": [
    "# tfidf + rfc 2 (работает ОЧЕНЬ! долго Roc_auc = 0.990673)\n",
    "model = Pipeline([\n",
    "    ('tfidf', TfidfVectorizer(ngram_range=(1,2))), #учитываем словосочетания\n",
    "    ('rfc', RandomForestClassifier(n_estimators = 100, n_jobs=-1)),\n",
    "])\n",
    "\n",
    "model.fit(X_train, y_train)\n",
    "roc_auc_score(y_test, model.predict_proba(X_test)[:,1])"
   ]
  },
  {
   "cell_type": "code",
   "execution_count": 9,
   "metadata": {},
   "outputs": [
    {
     "data": {
      "text/plain": [
       "0.9894127986079114"
      ]
     },
     "execution_count": 9,
     "metadata": {},
     "output_type": "execute_result"
    }
   ],
   "source": [
    "#countvect +lr (Roc_auc = 0.989412)\n",
    "model_2 = Pipeline([\n",
    "    ('cnt_vect', CountVectorizer(ngram_range=(1,1))),\n",
    "    ('lr', LogisticRegression(random_state=123)),\n",
    "])\n",
    "\n",
    "model_2.fit(X_train, y_train)\n",
    "roc_auc_score(y_test, model_2.predict_proba(X_test)[:,1])"
   ]
  },
  {
   "cell_type": "code",
   "execution_count": 10,
   "metadata": {},
   "outputs": [
    {
     "data": {
      "text/plain": [
       "0.990557254452333"
      ]
     },
     "execution_count": 10,
     "metadata": {},
     "output_type": "execute_result"
    }
   ],
   "source": [
    "#tfidf + lr (Roc_auc = 0.9905572)\n",
    "model_3 = Pipeline([\n",
    "    ('tfidf', TfidfVectorizer(ngram_range=(1,1))),\n",
    "    ('lr', LogisticRegression(random_state=123)),\n",
    "])\n",
    "\n",
    "model_3.fit(X_train, y_train)\n",
    "roc_auc_score(y_test, model_3.predict_proba(X_test)[:,1])"
   ]
  },
  {
   "cell_type": "code",
   "execution_count": 11,
   "metadata": {},
   "outputs": [
    {
     "data": {
      "text/plain": [
       "0.9392004279219345"
      ]
     },
     "execution_count": 11,
     "metadata": {},
     "output_type": "execute_result"
    }
   ],
   "source": [
    "# tfid + dtc (Roc_auc = 0.9392004)\n",
    "model_4 = Pipeline([\n",
    "    ('tfidf', TfidfVectorizer(ngram_range=(1,1))),\n",
    "    ('dtc', DecisionTreeClassifier()),\n",
    "])\n",
    "\n",
    "model_4.fit(X_train, y_train)\n",
    "roc_auc_score(y_test, model_4.predict_proba(X_test)[:,1])"
   ]
  },
  {
   "cell_type": "code",
   "execution_count": 10,
   "metadata": {},
   "outputs": [],
   "source": [
    "counter = TfidfVectorizer(ngram_range=(1,1))\n",
    "#counter = CountVectorizer(ngram_range=(1,1))\n",
    "X = counter.fit_transform(X_text)\n",
    "X_valid = counter.transform(X_text_test)"
   ]
  },
  {
   "cell_type": "code",
   "execution_count": 43,
   "metadata": {},
   "outputs": [],
   "source": [
    "from sklearn.naive_bayes import GaussianNB\n",
    "from sklearn.preprocessing import StandardScaler"
   ]
  },
  {
   "cell_type": "code",
   "execution_count": 11,
   "metadata": {},
   "outputs": [],
   "source": [
    "models = [\n",
    "    RandomForestClassifier(n_jobs=-1, random_state=123),\n",
    "    LogisticRegression(random_state=123),\n",
    "   # KNeighborsClassifier(n_neighbors=11),\n",
    "   # GaussianNB()\n",
    "]"
   ]
  },
  {
   "cell_type": "code",
   "execution_count": 12,
   "metadata": {},
   "outputs": [],
   "source": [
    "def roc_auc_score_cust(y_true, y_hat):\n",
    "    return roc_auc_score(y_true, y_hat[:,1])"
   ]
  },
  {
   "cell_type": "code",
   "execution_count": 13,
   "metadata": {},
   "outputs": [
    {
     "name": "stdout",
     "output_type": "stream",
     "text": [
      "task:         [classification]\n",
      "n_classes:    [2]\n",
      "metric:       [roc_auc_score_cust]\n",
      "mode:         [oof_pred_bag]\n",
      "n_models:     [2]\n",
      "\n",
      "model  0:     [RandomForestClassifier]\n",
      "    fold  0:  [0.98524359]\n",
      "    fold  1:  [0.98563448]\n",
      "    fold  2:  [0.98598861]\n",
      "    fold  3:  [0.98617603]\n",
      "    fold  4:  [0.98612142]\n",
      "    ----\n",
      "    MEAN:     [0.98583283] + [0.00034982]\n",
      "    FULL:     [0.98582920]\n",
      "\n",
      "model  1:     [LogisticRegression]\n",
      "    fold  0:  [0.99035889]\n",
      "    fold  1:  [0.99056848]\n",
      "    fold  2:  [0.99113602]\n",
      "    fold  3:  [0.99082014]\n",
      "    fold  4:  [0.99110929]\n",
      "    ----\n",
      "    MEAN:     [0.99079856] + [0.00030237]\n",
      "    FULL:     [0.99079745]\n",
      "\n"
     ]
    }
   ],
   "source": [
    "# пробуем стэкинг\n",
    "from vecstack import stacking\n",
    "\n",
    "S_train, S_valid = stacking(models,\n",
    "                               X, y, X_valid,\n",
    "                               regression=False,\n",
    "                               mode='oof_pred_bag', \n",
    "                               needs_proba=True,\n",
    "                               metric=roc_auc_score_cust,\n",
    "                               n_folds=5,                \n",
    "                               stratified=True,          \n",
    "                               shuffle=True,             \n",
    "                               random_state=123,         \n",
    "                               verbose=2)\n",
    "\n"
   ]
  },
  {
   "cell_type": "code",
   "execution_count": 14,
   "metadata": {},
   "outputs": [
    {
     "data": {
      "text/plain": [
       "0.9924040544514277"
      ]
     },
     "execution_count": 14,
     "metadata": {},
     "output_type": "execute_result"
    }
   ],
   "source": [
    "#(Roc_auc = 0.99240)\n",
    "last_model = GradientBoostingClassifier(n_estimators=300, max_depth=4,\n",
    "                                       learning_rate=0.01,\n",
    "                                       random_state=123)\n",
    "last_model.fit(S_train, y)\n",
    "y_hat = last_model.predict_proba(S_valid)\n",
    "\n",
    "roc_auc_score(y, last_model.predict_proba(S_train)[:,1])"
   ]
  },
  {
   "cell_type": "code",
   "execution_count": 55,
   "metadata": {},
   "outputs": [],
   "source": [
    "# запись результатов в файл\n",
    "df_results=df_test.reset_index()\n",
    "df_results = df_results.drop(['name', 'description'], axis = 1)"
   ]
  },
  {
   "cell_type": "code",
   "execution_count": 56,
   "metadata": {},
   "outputs": [
    {
     "data": {
      "text/html": [
       "<div>\n",
       "<style scoped>\n",
       "    .dataframe tbody tr th:only-of-type {\n",
       "        vertical-align: middle;\n",
       "    }\n",
       "\n",
       "    .dataframe tbody tr th {\n",
       "        vertical-align: top;\n",
       "    }\n",
       "\n",
       "    .dataframe thead th {\n",
       "        text-align: right;\n",
       "    }\n",
       "</style>\n",
       "<table border=\"1\" class=\"dataframe\">\n",
       "  <thead>\n",
       "    <tr style=\"text-align: right;\">\n",
       "      <th></th>\n",
       "      <th>id</th>\n",
       "      <th>target</th>\n",
       "    </tr>\n",
       "  </thead>\n",
       "  <tbody>\n",
       "    <tr>\n",
       "      <th>0</th>\n",
       "      <td>200000</td>\n",
       "      <td>0.981509</td>\n",
       "    </tr>\n",
       "    <tr>\n",
       "      <th>1</th>\n",
       "      <td>200001</td>\n",
       "      <td>0.998956</td>\n",
       "    </tr>\n",
       "    <tr>\n",
       "      <th>2</th>\n",
       "      <td>200002</td>\n",
       "      <td>0.993868</td>\n",
       "    </tr>\n",
       "    <tr>\n",
       "      <th>3</th>\n",
       "      <td>200003</td>\n",
       "      <td>0.998698</td>\n",
       "    </tr>\n",
       "    <tr>\n",
       "      <th>4</th>\n",
       "      <td>200004</td>\n",
       "      <td>0.001150</td>\n",
       "    </tr>\n",
       "  </tbody>\n",
       "</table>\n",
       "</div>"
      ],
      "text/plain": [
       "       id    target\n",
       "0  200000  0.981509\n",
       "1  200001  0.998956\n",
       "2  200002  0.993868\n",
       "3  200003  0.998698\n",
       "4  200004  0.001150"
      ]
     },
     "execution_count": 56,
     "metadata": {},
     "output_type": "execute_result"
    }
   ],
   "source": [
    "df_results = pd.concat([df_results,pd.DataFrame(y_hat[:, 1] ,columns = ['target'])],axis = 1, names = ['id','target'])\n",
    "df_results.head()"
   ]
  },
  {
   "cell_type": "code",
   "execution_count": 57,
   "metadata": {},
   "outputs": [],
   "source": [
    "df_results.to_csv('submission.csv', sep=',', encoding='utf8',index = False)"
   ]
  },
  {
   "cell_type": "code",
   "execution_count": null,
   "metadata": {},
   "outputs": [],
   "source": []
  }
 ],
 "metadata": {
  "kernelspec": {
   "display_name": "Python 3",
   "language": "python",
   "name": "python3"
  },
  "language_info": {
   "codemirror_mode": {
    "name": "ipython",
    "version": 3
   },
   "file_extension": ".py",
   "mimetype": "text/x-python",
   "name": "python",
   "nbconvert_exporter": "python",
   "pygments_lexer": "ipython3",
   "version": "3.6.5"
  }
 },
 "nbformat": 4,
 "nbformat_minor": 2
}
